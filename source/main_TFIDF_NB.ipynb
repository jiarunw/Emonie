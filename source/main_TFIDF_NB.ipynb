{
 "cells": [
  {
   "cell_type": "code",
   "execution_count": 1,
   "metadata": {},
   "outputs": [],
   "source": [
    "# !pip install gingerit\n",
    "# !pip install contractions"
   ]
  },
  {
   "cell_type": "code",
   "execution_count": 30,
   "metadata": {},
   "outputs": [
    {
     "output_type": "stream",
     "name": "stderr",
     "text": [
      "[nltk_data] Downloading package punkt to\n[nltk_data]     C:\\Users\\13037\\AppData\\Roaming\\nltk_data...\n[nltk_data]   Package punkt is already up-to-date!\n"
     ]
    }
   ],
   "source": [
    "import warnings\n",
    "from sklearn.feature_extraction.text import TfidfVectorizer\n",
    "from sklearn.naive_bayes import GaussianNB\n",
    "from sklearn import metrics\n",
    "\n",
    "warnings.filterwarnings('ignore')\n",
    "\n",
    "import os\n",
    "import math\n",
    "import pandas as pd\n",
    "import Embedding as embd\n",
    "import numpy as np\n",
    "from keras.preprocessing.text import Tokenizer # https://keras-cn.readthedocs.io/en/latest/preprocessing/text/\n",
    "from keras.utils import to_categorical\n",
    "os.environ[\"CUDA_VISIBLE_DEVICES\"]=\"0\"\n",
    "\n",
    "import nltk as nl\n",
    "nl.download('punkt')\n",
    "\n",
    "import re\n",
    "\n",
    "import contractions\n",
    "from sklearn.model_selection import train_test_split \n",
    "from gingerit.gingerit import GingerIt\n"
   ]
  },
  {
   "cell_type": "code",
   "execution_count": 31,
   "metadata": {},
   "outputs": [],
   "source": [
    "NN=30000\n",
    "data_train=pd.read_csv('../dataset/Train.csv')\n",
    "data_train=data_train[0:NN]\n",
    "X_train=data_train['TEXT'].values\n",
    "Y_train_1D=data_train['Label'].values\n",
    "Y_train=to_categorical(Y_train_1D)\n",
    "\n",
    "data_test=pd.read_csv('../dataset/Test.csv')\n",
    "data_test=data_test[0:NN]\n",
    "X_test=data_test['TEXT'].values\n"
   ]
  },
  {
   "cell_type": "code",
   "execution_count": 32,
   "metadata": {},
   "outputs": [],
   "source": [
    "X_rm=embd.corpus_pre(X_train)"
   ]
  },
  {
   "cell_type": "code",
   "execution_count": 33,
   "metadata": {},
   "outputs": [],
   "source": [
    "cleanedSentences = []\n",
    "parser = GingerIt() #uesd for corrcect misspelling\n",
    "regex = re.compile('[^a-zA-z]')#uesd for deleting non-alphabet characters\n",
    "for sentence in X_rm:\n",
    "    URLless_string = re.sub(r'(?i)\\b((?:https?://|www\\d{0,3}[.]|[a-z0-9.\\-]+[.][a-z]{2,4}     /)(?:[^\\s()<>]+|\\(([^\\s()<>]+|(\\([^\\s()<>]+\\)))*\\))+(?:\\(([^\\s()<>]+|(\\([^\\s()<>]+\\)))*\\)|[^\\s`!()\\[\\]{};:\\'\".,<>?«»“”‘’]))', '', sentence)\n",
    "    contfix = contractions.fix(URLless_string)\n",
    "    AlphabetOnly = regex.sub(' ', contfix)\n",
    "    onespace=' '.join(AlphabetOnly.split())\n",
    "    cleanedSentences.append(onespace)\n"
   ]
  },
  {
   "cell_type": "code",
   "execution_count": 34,
   "metadata": {},
   "outputs": [],
   "source": [
    "nn=100\n",
    "x_train=cleanedSentences[nn:]\n",
    "x_test=cleanedSentences[0:nn]\n",
    "y_train=Y_train_1D[nn:]\n",
    "y_test=Y_train_1D[0:nn]"
   ]
  },
  {
   "cell_type": "code",
   "execution_count": 35,
   "metadata": {},
   "outputs": [
    {
     "output_type": "stream",
     "name": "stdout",
     "text": [
      "40159\n"
     ]
    }
   ],
   "source": [
    "# 用TF-IDF计算单词的权重\n",
    "from nltk.corpus import stopwords \n",
    "stopper=set(stopwords.words('english'))\n",
    "tf = TfidfVectorizer(stop_words = stopper, max_df = 0.9)\n",
    "\n",
    "train_features = tf.fit_transform(x_train)\n",
    "print(len(tf.get_feature_names()))\n",
    "test_features = tf.transform(x_test)"
   ]
  },
  {
   "cell_type": "code",
   "execution_count": 36,
   "metadata": {},
   "outputs": [
    {
     "output_type": "stream",
     "name": "stdout",
     "text": [
      "accuracy:  0.15\n"
     ]
    }
   ],
   "source": [
    "from sklearn.naive_bayes import MultinomialNB\n",
    "from sklearn.svm import SVC\n",
    "\n",
    "clf = GaussianNB().fit(train_features.toarray(), y_train)\n",
    "pred_labels = clf.predict(test_features.toarray())\n",
    "\n",
    "# accuracy\n",
    "print('accuracy: ', metrics.accuracy_score(y_test, pred_labels))"
   ]
  },
  {
   "cell_type": "code",
   "execution_count": null,
   "metadata": {},
   "outputs": [],
   "source": []
  },
  {
   "cell_type": "code",
   "execution_count": null,
   "metadata": {},
   "outputs": [],
   "source": []
  }
 ],
 "metadata": {
  "kernelspec": {
   "display_name": "Python 3",
   "language": "python",
   "name": "python3"
  },
  "language_info": {
   "codemirror_mode": {
    "name": "ipython",
    "version": 3
   },
   "file_extension": ".py",
   "mimetype": "text/x-python",
   "name": "python",
   "nbconvert_exporter": "python",
   "pygments_lexer": "ipython3",
   "version": "3.8.3-final"
  }
 },
 "nbformat": 4,
 "nbformat_minor": 4
}