{
 "cells": [
  {
   "cell_type": "code",
   "execution_count": 1,
   "metadata": {},
   "outputs": [],
   "source": [
    "import math\n",
    "import pandas as pd\n",
    "import kerouz_CNN as kr\n",
    "import yongyizh as yy\n",
    "import numpy as np\n",
    "from keras.preprocessing.text import Tokenizer # https://keras-cn.readthedocs.io/en/latest/preprocessing/text/\n",
    "from keras.utils import to_categorical\n"
   ]
  },
  {
   "cell_type": "code",
   "execution_count": 2,
   "metadata": {},
   "outputs": [],
   "source": [
    "if __name__=='__main__':\n",
    "\n",
    "    # adjustable parameter\n",
    "    offset=10 # l1=l3=l2+offset. namely l1 refers to get length, l2 refers to average length, l3 refers to train length\n",
    "    rm_symbols='!\"#$%&()*+,-./:;<=>?@[\\\\]^_`{|}~\\t\\n'\n",
    "    embedding_dim=50\n"
   ]
  },
  {
   "cell_type": "code",
   "execution_count": 3,
   "metadata": {},
   "outputs": [],
   "source": [
    "    # read dataset and dictionary\n",
    "    data_train=pd.read_csv('../dataset/Train.csv')\n",
    "    X_train=data_train['TEXT'].values\n",
    "    Y_train=data_train['Label'].values\n",
    "    Y_train=to_categorical(Y_train)\n",
    "    \n",
    "    data_test=pd.read_csv('../dataset/Test.csv')\n",
    "    X_test=data_test['TEXT'].values\n",
    "    \n",
    "    f='../dataset/glove.6B.50d.txt'\n",
    "    \n",
    "    emoji_map = pd.read_csv('../dataset/Mapping.csv')"
   ]
  },
  {
   "cell_type": "code",
   "execution_count": 4,
   "metadata": {},
   "outputs": [],
   "source": [
    "    # remove special symbols and stopwords from train set\n",
    "    X_rm=yy.corpus_pre(X_train)\n",
    "\n",
    "    # segmentation\n",
    "    tokenizer = Tokenizer(filters=rm_symbols, split=\" \", lower=True) # filters：filter symbols that need to be removed lower：convert to lowercase\n",
    "    tokenizer.fit_on_texts(X_rm) # Tokenizer read train set free of special symbols. Results are stored in tokenize handle.\n",
    "    \n",
    "    # vectorize. fill in and truncation\n",
    "    l2 = math.ceil(sum([len(s.split(\" \")) for s in X_rm])/len(X_rm)) # l2:average length\n",
    "    l1 = l2+offset #get length\n",
    "    X_pd,tokenizer = kr.toknz(X_rm, l1,tokenizer)"
   ]
  },
  {
   "cell_type": "code",
   "execution_count": 5,
   "metadata": {},
   "outputs": [],
   "source": [
    "    #Dict that allocate an id(integer) to every word\n",
    "    ind_dict=tokenizer.word_index\n",
    "\n",
    "    #Dict that allocate an word vector to every word\n",
    "    lookup_dict=yy.dict_pre(f)\n",
    "\n",
    "    # generate weightMatrix according to dictionary\n",
    "    W=yy.lookup(ind_dict,lookup_dict,embedding_dim)\n"
   ]
  },
  {
   "cell_type": "code",
   "execution_count": 6,
   "metadata": {},
   "outputs": [
    {
     "name": "stdout",
     "output_type": "stream",
     "text": [
      "Model: \"sequential\"\n",
      "_________________________________________________________________\n",
      "Layer (type)                 Output Shape              Param #   \n",
      "=================================================================\n",
      "embedding (Embedding)        (None, 20, 50)            4275000   \n",
      "_________________________________________________________________\n",
      "conv1d (Conv1D)              (None, 20, 128)           32128     \n",
      "_________________________________________________________________\n",
      "max_pooling1d (MaxPooling1D) (None, 4, 128)            0         \n",
      "_________________________________________________________________\n",
      "conv1d_1 (Conv1D)            (None, 4, 128)            82048     \n",
      "_________________________________________________________________\n",
      "max_pooling1d_1 (MaxPooling1 (None, 1, 128)            0         \n",
      "_________________________________________________________________\n",
      "conv1d_2 (Conv1D)            (None, 1, 128)            82048     \n",
      "_________________________________________________________________\n",
      "max_pooling1d_2 (MaxPooling1 (None, 1, 128)            0         \n",
      "_________________________________________________________________\n",
      "flatten (Flatten)            (None, 128)               0         \n",
      "_________________________________________________________________\n",
      "dense (Dense)                (None, 128)               16512     \n",
      "_________________________________________________________________\n",
      "dense_1 (Dense)              (None, 20)                2580      \n",
      "=================================================================\n",
      "Total params: 4,490,316\n",
      "Trainable params: 215,316\n",
      "Non-trainable params: 4,275,000\n",
      "_________________________________________________________________\n",
      "Epoch 1/5\n",
      "465/465 [==============================] - 6s 12ms/step - loss: 2.6077 - accuracy: 0.2448 - val_loss: 2.5494 - val_accuracy: 0.2590\n",
      "Epoch 2/5\n",
      "465/465 [==============================] - 5s 11ms/step - loss: 2.4574 - accuracy: 0.2839 - val_loss: 2.4728 - val_accuracy: 0.2784\n",
      "Epoch 3/5\n",
      "465/465 [==============================] - 5s 11ms/step - loss: 2.3786 - accuracy: 0.3040 - val_loss: 2.4698 - val_accuracy: 0.2793\n",
      "Epoch 4/5\n",
      "465/465 [==============================] - 5s 11ms/step - loss: 2.3101 - accuracy: 0.3219 - val_loss: 2.4592 - val_accuracy: 0.2856\n",
      "Epoch 5/5\n",
      "465/465 [==============================] - 5s 11ms/step - loss: 2.2468 - accuracy: 0.3373 - val_loss: 2.4732 - val_accuracy: 0.2760\n",
      "2188/2188 [==============================] - 4s 2ms/step - loss: 2.2102 - accuracy: 0.3543\n",
      "WARNING:tensorflow:From <ipython-input-6-a2eea6f90e1f>:3: Sequential.predict_classes (from tensorflow.python.keras.engine.sequential) is deprecated and will be removed after 2021-01-01.\n",
      "Instructions for updating:\n",
      "Please use instead:* `np.argmax(model.predict(x), axis=-1)`,   if your model does multi-class classification   (e.g. if it uses a `softmax` last-layer activation).* `(model.predict(x) > 0.5).astype(\"int32\")`,   if your model does binary classification   (e.g. if it uses a `sigmoid` last-layer activation).\n",
      "[1 9 3 3 7 5 9 9 7 9 9 9]\n"
     ]
    }
   ],
   "source": [
    "    # train\n",
    "    model=kr.model_training(len(ind_dict)+1, W, l2+offset, X_pd, Y_train, embed_dim=embedding_dim, epochs=5)\n",
    "    print(model.predict_classes(X_pd[1:13])) #test on some sentences in the train data set"
   ]
  },
  {
   "cell_type": "markdown",
   "metadata": {},
   "source": [
    "## Predict on test set"
   ]
  },
  {
   "cell_type": "code",
   "execution_count": 7,
   "metadata": {
    "scrolled": true
   },
   "outputs": [
    {
     "name": "stdout",
     "output_type": "stream",
     "text": [
      "📸\n",
      "Trek Remedy 9.8 ️ #trekwomen @ Town Run Trail Park - Indy Parks and Recreation\n",
      "\n",
      "❤\n",
      "HAPPY BIRTHDAY TO MY DAMN SISTA Loyalty makes our bond special! She's always there when I need…\n",
      "\n",
      "🎄\n",
      "New red wine love thank you for the recommendation @user\n",
      "\n",
      "❤\n",
      "Happy birthday best friend. @ Main Street Burgers\n",
      "\n",
      "😂\n",
      "As I grow older I pay less attention to what men say. I just watch what they do! happy #tgif…\n",
      "\n",
      "📸\n",
      "Thank you @user and @user for such an amazing shoot! Can't wait to see the images …\n",
      "\n",
      "❤\n",
      "These two @ Gas Works Park\n",
      "\n",
      "❤\n",
      "Loving this sassy cut and color! #ohanahairsalon #Nashville #colorandcut #shortstyle #615…\n",
      "\n",
      "❤\n",
      "Pure #happiness @user ️ @ Washington Dulles International Airport\n",
      "\n",
      "😂\n",
      "I miss the people I peaked with @ Peek N Peak Resort\n",
      "\n",
      "❤\n",
      "Family portrait @ Silver Bay Marina\n",
      "\n",
      "😂\n",
      "Partners in crime. #stagemanagers #FirstDateCLT #openingnight @user @ Booth Playhouse…\n",
      "\n",
      "😂\n",
      "It's been too long (peep the fathead in the back) @ Mount Saint Mary…\n",
      "\n",
      "❤\n",
      "me beautiful d8 @ The Greene Turtle Newark De.\n",
      "\n",
      "❤\n",
      "We're thankful for our @user family#thanksgiving #miamibiz #barlop…\n",
      "\n",
      "😍\n",
      "@ Disney Springs\n",
      "\n",
      "😂\n",
      "Oops! Vacation not yet totally over. Overnight in LA. Went around town with the mga batan.on…\n",
      "\n",
      "❤\n",
      "@ Fort Worth, Texas\n",
      "\n",
      "❤\n",
      "Today is Parent's Day. Wishing my Mami y Papi a wonderful day in Heaven. ️ you miss you.…\n",
      "\n",
      "😂\n",
      "This is what I get when I ask for him to take a picture with me. I needed to pick up a letter…\n",
      "\n",
      "❤\n",
      "... #williamspartyrentals #wedding #sanjose #williamssj #behindthescenes @ Cinnabar Hills Golf…\n",
      "\n"
     ]
    }
   ],
   "source": [
    "    # Prediction on test set\n",
    "    X_test_rm = yy.corpus_pre(X_test)\n",
    "    X_test_pd,_ = kr.toknz(X_test_rm, l1,tokenizer)\n",
    "    label_test = model.predict_classes(X_test_pd)\n",
    "    for i in range(500, 521, 1):\n",
    "        print(emoji_map['emoticons'][label_test[i]])\n",
    "        print(X_test[i])"
   ]
  },
  {
   "cell_type": "code",
   "execution_count": 8,
   "metadata": {},
   "outputs": [
    {
     "name": "stdout",
     "output_type": "stream",
     "text": [
      "2188/2188 [==============================] - 4s 2ms/step - loss: 2.2102 - accuracy: 0.3543\n",
      "Accuracy = 0.354329  ;  loss = 2.210211\n"
     ]
    }
   ],
   "source": [
    "    loss, accuracy = model.evaluate(X_pd, Y_train, verbose=1)\n",
    "    print(\"Accuracy = %f  ;  loss = %f\" % (accuracy, loss))"
   ]
  },
  {
   "cell_type": "markdown",
   "metadata": {},
   "source": [
    "## Predict on user input"
   ]
  },
  {
   "cell_type": "code",
   "execution_count": null,
   "metadata": {},
   "outputs": [],
   "source": [
    "    \n",
    "    user_str = input(\"input your sentence:\")   \n",
    "    #user_str = \"I love you\"\n",
    "    X_user = np.array([str(user_str)])\n",
    "    print(X_user[0])"
   ]
  },
  {
   "cell_type": "code",
   "execution_count": null,
   "metadata": {},
   "outputs": [],
   "source": [
    "    X_user_rm = yy.corpus_pre(X_user)\n",
    "    X_user_pd,_ = kr.toknz(X_user_rm, l1,tokenizer)\n",
    "    label_user = model.predict_classes(X_user_pd)\n",
    "    print(emoji_map['emoticons'][label_user[0]])\n",
    "    print(X_user[0]) "
   ]
  },
  {
   "cell_type": "code",
   "execution_count": null,
   "metadata": {},
   "outputs": [],
   "source": []
  },
  {
   "cell_type": "code",
   "execution_count": null,
   "metadata": {},
   "outputs": [],
   "source": []
  }
 ],
 "metadata": {
  "kernelspec": {
   "display_name": "Python 3",
   "language": "python",
   "name": "python3"
  },
  "language_info": {
   "codemirror_mode": {
    "name": "ipython",
    "version": 3
   },
   "file_extension": ".py",
   "mimetype": "text/x-python",
   "name": "python",
   "nbconvert_exporter": "python",
   "pygments_lexer": "ipython3",
   "version": "3.7.4"
  }
 },
 "nbformat": 4,
 "nbformat_minor": 2
}
