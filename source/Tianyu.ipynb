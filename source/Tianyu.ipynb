{
 "cells": [
  {
   "cell_type": "code",
   "execution_count": 1,
   "metadata": {},
   "outputs": [
    {
     "name": "stderr",
     "output_type": "stream",
     "text": [
      "Using TensorFlow backend.\n"
     ]
    }
   ],
   "source": [
    "import math\n",
    "import pandas as pd\n",
    "import kerouz_CNN as kr\n",
    "import Embedding as yy\n",
    "import numpy as np\n",
    "from keras.preprocessing.text import Tokenizer # https://keras-cn.readthedocs.io/en/latest/preprocessing/text/\n",
    "from keras.utils import to_categorical\n",
    "from sklearn.model_selection import train_test_split"
   ]
  },
  {
   "cell_type": "code",
   "execution_count": 2,
   "metadata": {},
   "outputs": [],
   "source": [
    "if __name__=='__main__':\n",
    "\n",
    "    # adjustable parameter\n",
    "    offset=10 # l1=l3=l2+offset. namely l1 refers to get length, l2 refers to average length, l3 refers to train length\n",
    "    rm_symbols='!\"#$%&()*+,-./:;<=>?@[\\\\]^_`{|}~\\t\\n'\n",
    "    embedding_dim=50\n"
   ]
  },
  {
   "cell_type": "code",
   "execution_count": 3,
   "metadata": {},
   "outputs": [],
   "source": [
    "    # read dataset and dictionary\n",
    "    data_train=pd.read_csv('../dataset/Train.csv')\n",
    "    \n",
    "    X_train=data_train['TEXT'].values\n",
    "    Y_train=data_train['Label'].values\n",
    "    \n",
    "\n",
    "    #Y_train[Y_train == 5] = 1\n",
    "    Y_train[Y_train == 6] = 1\n",
    "    Y_train[Y_train == 11] = 1\n",
    "    Y_train[Y_train == 12] = 1\n",
    "    Y_train[Y_train == 13] = 1\n",
    " \n",
    "\n",
    "\n",
    "    Y_train[Y_train == 7] = 2\n",
    "    Y_train[Y_train == 15] = 2\n",
    "    Y_train[Y_train == 8] = 2\n",
    "    Y_train[Y_train == 14] = 2\n",
    "    Y_train[Y_train == 18] = 2\n",
    "    Y_train[Y_train == 9] = 2\n",
    "    \n",
    "\n",
    "    \n",
    "    #Y_train[Y_train == 0] = 4\n",
    "    Y_train[Y_train == 16] = 4\n",
    "    Y_train[Y_train == 19] = 4\n",
    "\n",
    "    \n",
    "    Y_train[Y_train == 17] = 10\n",
    "    \n",
    "    \n",
    "    \n",
    "    '''\n",
    "    以下有待商榷\n",
    "    \n",
    "    Y_train[Y_train == 2] = 1\n",
    "    Y_train[Y_train == 4] = 1\n",
    "    Y_train[Y_train == 10] = 1\n",
    "    '''\n",
    "\n",
    "    \n",
    "\n",
    "\n",
    "    #Y_123 = Y_train[:]\n",
    "    \n",
    "\n",
    "    Y_train=to_categorical(Y_train,20)\n",
    "    X_train, X_test, Y_train, Y_test = train_test_split(X_train, Y_train, test_size=0.2, random_state=42)\n",
    "    \n",
    "    #data_test=pd.read_csv('../dataset/Test.csv')\n",
    "   # X_test=data_test['TEXT'].values\n",
    "    \n",
    "    f='../dataset/glove.6B.50d.txt'\n",
    "    \n",
    "    emoji_map = pd.read_csv('../dataset/Mapping.csv')"
   ]
  },
  {
   "cell_type": "code",
   "execution_count": 4,
   "metadata": {},
   "outputs": [],
   "source": [
    "    # remove special symbols and stopwords from train set\n",
    "    X_rm=yy.corpus_pre(X_train)\n",
    "\n",
    "    # segmentation\n",
    "    tokenizer = Tokenizer(filters=rm_symbols, split=\" \", lower=True) # filters：filter symbols that need to be removed lower：convert to lowercase\n",
    "    tokenizer.fit_on_texts(X_rm) # Tokenizer read train set free of special symbols. Results are stored in tokenize handle.\n",
    "    \n",
    "    # vectorize. fill in and truncation\n",
    "    l2 = math.ceil(sum([len(s.split(\" \")) for s in X_rm])/len(X_rm)) # l2:average length\n",
    "    l1 = l2+offset #get length\n",
    "    X_pd,tokenizer = kr.toknz(X_rm, l1,tokenizer)"
   ]
  },
  {
   "cell_type": "code",
   "execution_count": 5,
   "metadata": {},
   "outputs": [],
   "source": [
    "    #Dict that allocate an id(integer) to every word\n",
    "    ind_dict=tokenizer.word_index\n",
    "\n",
    "    #Dict that allocate an word vector to every word\n",
    "    lookup_dict=yy.dict_pre(f)\n",
    "\n",
    "    # generate weightMatrix according to dictionary\n",
    "    W=yy.lookup(ind_dict,lookup_dict,embedding_dim)\n"
   ]
  },
  {
   "cell_type": "code",
   "execution_count": 6,
   "metadata": {},
   "outputs": [
    {
     "name": "stdout",
     "output_type": "stream",
     "text": [
      "Model: \"sequential_1\"\n",
      "_________________________________________________________________\n",
      "Layer (type)                 Output Shape              Param #   \n",
      "=================================================================\n",
      "embedding_1 (Embedding)      (None, 20, 50)            3643850   \n",
      "_________________________________________________________________\n",
      "conv1d_1 (Conv1D)            (None, 20, 128)           32128     \n",
      "_________________________________________________________________\n",
      "max_pooling1d_1 (MaxPooling1 (None, 4, 128)            0         \n",
      "_________________________________________________________________\n",
      "conv1d_2 (Conv1D)            (None, 4, 128)            82048     \n",
      "_________________________________________________________________\n",
      "max_pooling1d_2 (MaxPooling1 (None, 1, 128)            0         \n",
      "_________________________________________________________________\n",
      "conv1d_3 (Conv1D)            (None, 1, 128)            82048     \n",
      "_________________________________________________________________\n",
      "max_pooling1d_3 (MaxPooling1 (None, 1, 128)            0         \n",
      "_________________________________________________________________\n",
      "flatten_1 (Flatten)          (None, 128)               0         \n",
      "_________________________________________________________________\n",
      "dense_1 (Dense)              (None, 128)               16512     \n",
      "_________________________________________________________________\n",
      "dense_2 (Dense)              (None, 20)                2580      \n",
      "=================================================================\n",
      "Total params: 3,859,166\n",
      "Trainable params: 215,316\n",
      "Non-trainable params: 3,643,850\n",
      "_________________________________________________________________\n",
      "Train on 47600 samples, validate on 8400 samples\n",
      "Epoch 1/3\n",
      "47600/47600 [==============================] - 4s 81us/step - loss: 1.4151 - accuracy: 0.5206 - val_loss: 1.3348 - val_accuracy: 0.5308\n",
      "Epoch 2/3\n",
      "47600/47600 [==============================] - 4s 82us/step - loss: 1.3110 - accuracy: 0.5395 - val_loss: 1.3053 - val_accuracy: 0.5419\n",
      "Epoch 3/3\n",
      "47600/47600 [==============================] - 4s 82us/step - loss: 1.2622 - accuracy: 0.5521 - val_loss: 1.2937 - val_accuracy: 0.5423\n",
      "56000/56000 [==============================] - 2s 40us/step\n",
      "[2 2 1 2 2 2 2 2 5 3 2 1]\n"
     ]
    }
   ],
   "source": [
    "    # train\n",
    "    model=kr.model_training(len(ind_dict)+1, W, l2+offset, X_pd, Y_train, embed_dim=embedding_dim, epochs=3)\n",
    "    print(model.predict_classes(X_pd[1:13])) #test on some sentences in the train data set"
   ]
  },
  {
   "cell_type": "markdown",
   "metadata": {},
   "source": [
    "## Predict on test set"
   ]
  },
  {
   "cell_type": "code",
   "execution_count": 14,
   "metadata": {
    "scrolled": true
   },
   "outputs": [],
   "source": [
    "    # Prediction on test set\n",
    "    X_test_rm = yy.corpus_pre(X_test)\n",
    "    X_test_pd,_ = kr.toknz(X_test_rm, l1,tokenizer)\n",
    "    label_test = model.predict_classes(X_test_pd)\n",
    "    #for i in range(500, 521, 1):\n",
    "        #print(emoji_map['emoticons'][label_test[i]])\n",
    "        #print(X_test[i])\n",
    "    "
   ]
  },
  {
   "cell_type": "code",
   "execution_count": 15,
   "metadata": {},
   "outputs": [],
   "source": [
    "label_test=to_categorical(label_test,20)"
   ]
  },
  {
   "cell_type": "code",
   "execution_count": 16,
   "metadata": {},
   "outputs": [],
   "source": [
    "accuracy = 0\n",
    "inaccuracy = []\n",
    "for i in range(len(Y_test)):\n",
    "    if (label_test[i,:] == Y_test[i,:]).all():\n",
    "        accuracy += 1\n",
    "\n",
    "accuracy = accuracy/len(Y_test)\n",
    "        "
   ]
  },
  {
   "cell_type": "code",
   "execution_count": 17,
   "metadata": {},
   "outputs": [
    {
     "data": {
      "text/plain": [
       "0.5473571428571429"
      ]
     },
     "execution_count": 17,
     "metadata": {},
     "output_type": "execute_result"
    }
   ],
   "source": [
    "accuracy"
   ]
  },
  {
   "cell_type": "code",
   "execution_count": 11,
   "metadata": {},
   "outputs": [],
   "source": [
    "    #loss, accuracy = model.evaluate(X_pd, Y_train, verbose=1)\n",
    "    #print(\"Accuracy = %f  ;  loss = %f\" % (accuracy, loss))"
   ]
  },
  {
   "cell_type": "markdown",
   "metadata": {},
   "source": [
    "## Predict on user input"
   ]
  },
  {
   "cell_type": "code",
   "execution_count": 12,
   "metadata": {},
   "outputs": [
    {
     "data": {
      "text/plain": [
       "'\\nuser_str = input(\"input your sentence:\")   \\n#user_str = \"I love you\"\\nX_user = np.array([str(user_str)])\\nprint(X_user[0])\\n'"
      ]
     },
     "execution_count": 12,
     "metadata": {},
     "output_type": "execute_result"
    }
   ],
   "source": [
    "    '''\n",
    "    user_str = input(\"input your sentence:\")   \n",
    "    #user_str = \"I love you\"\n",
    "    X_user = np.array([str(user_str)])\n",
    "    print(X_user[0])\n",
    "    '''"
   ]
  },
  {
   "cell_type": "code",
   "execution_count": 13,
   "metadata": {},
   "outputs": [
    {
     "data": {
      "text/plain": [
       "\"\\nX_user_rm = yy.corpus_pre(X_user)\\nX_user_pd,_ = kr.toknz(X_user_rm, l1,tokenizer)\\nlabel_user = model.predict_classes(X_user_pd)\\nprint(emoji_map['emoticons'][label_user[0]])\\nprint(X_user[0]) \\n\""
      ]
     },
     "execution_count": 13,
     "metadata": {},
     "output_type": "execute_result"
    }
   ],
   "source": [
    "    '''\n",
    "    X_user_rm = yy.corpus_pre(X_user)\n",
    "    X_user_pd,_ = kr.toknz(X_user_rm, l1,tokenizer)\n",
    "    label_user = model.predict_classes(X_user_pd)\n",
    "    print(emoji_map['emoticons'][label_user[0]])\n",
    "    print(X_user[0]) \n",
    "    '''"
   ]
  },
  {
   "cell_type": "code",
   "execution_count": null,
   "metadata": {},
   "outputs": [],
   "source": []
  },
  {
   "cell_type": "code",
   "execution_count": null,
   "metadata": {},
   "outputs": [],
   "source": []
  }
 ],
 "metadata": {
  "kernelspec": {
   "display_name": "Python 3",
   "language": "python",
   "name": "python3"
  },
  "language_info": {
   "codemirror_mode": {
    "name": "ipython",
    "version": 3
   },
   "file_extension": ".py",
   "mimetype": "text/x-python",
   "name": "python",
   "nbconvert_exporter": "python",
   "pygments_lexer": "ipython3",
   "version": "3.7.4"
  }
 },
 "nbformat": 4,
 "nbformat_minor": 2
}